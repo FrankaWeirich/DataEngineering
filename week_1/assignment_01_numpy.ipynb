{
  "cells": [
    {
      "cell_type": "markdown",
      "metadata": {
        "_uuid": "7dac2651304bbdd274a99291c17f3be1e84c222b",
        "id": "0lSmoVeqbLDU"
      },
      "source": [
        "# Numpy exercises\n",
        "\n",
        "HINT: use the Numpy documentations\n",
        "* [NumPy User Guide](https://numpy.org/doc/1.22/user/index.html#user)\n",
        "* [NumPy API](https://numpy.org/doc/1.22/reference/index.html#reference)"
      ]
    },
    {
      "cell_type": "code",
      "execution_count": 2,
      "metadata": {
        "_uuid": "1f42e0ab79d92a23b119e23ab8dda63393447466",
        "tags": [],
        "id": "fpbqO7OKbLDX"
      },
      "outputs": [],
      "source": [
        "import numpy as np"
      ]
    },
    {
      "cell_type": "markdown",
      "metadata": {
        "_uuid": "77978f9afb5f957440f180861ccb06c2f644c317",
        "id": "iWrMdik0bLDY"
      },
      "source": [
        "#### 1) Create a null vector of size 10 (★☆☆)"
      ]
    },
    {
      "cell_type": "code",
      "execution_count": 4,
      "metadata": {
        "_uuid": "beeb301d90b0fd6cb0f015969c969870bee981e8",
        "id": "Kt3VZmfdbLDZ",
        "outputId": "c8e6dd30-75cc-41c3-b791-6e2e2fc49e05",
        "colab": {
          "base_uri": "https://localhost:8080/"
        }
      },
      "outputs": [
        {
          "output_type": "execute_result",
          "data": {
            "text/plain": [
              "array([0., 0., 0., 0., 0., 0., 0., 0., 0., 0.])"
            ]
          },
          "metadata": {},
          "execution_count": 4
        }
      ],
      "source": [
        "np.zeros(10)"
      ]
    },
    {
      "cell_type": "markdown",
      "metadata": {
        "_uuid": "9f2912dbc92ebcc2e86ac09930187d5d101552da",
        "id": "AL2ngpOMbLDZ"
      },
      "source": [
        "#### 2) Print the memory size in bytes of any array (★☆☆)"
      ]
    },
    {
      "cell_type": "code",
      "execution_count": 9,
      "metadata": {
        "_uuid": "114a14936bde56cae519ed2f781f0b241251bdab",
        "id": "74G0XAqsbLDZ",
        "outputId": "c12eb548-b793-4164-8972-bc57c93cfc6e",
        "colab": {
          "base_uri": "https://localhost:8080/"
        }
      },
      "outputs": [
        {
          "output_type": "stream",
          "name": "stdout",
          "text": [
            "800 bytes\n"
          ]
        }
      ],
      "source": [
        "Z = np.zeros((10,10))\n",
        "print((Z.size * Z.itemsize), \"bytes\")"
      ]
    },
    {
      "cell_type": "markdown",
      "metadata": {
        "_uuid": "c75ba6ea73f0a23f837c1553a0f564fbb8748557",
        "id": "4wluJDU2bLDa"
      },
      "source": [
        "#### 3) Create a null vector of size 10 but the fifth value which is 1 (★☆☆)"
      ]
    },
    {
      "cell_type": "code",
      "execution_count": 10,
      "metadata": {
        "_uuid": "a916d1332f7e1d7499fd9de3bb422651711df025",
        "id": "Y1b9gqHibLDa",
        "outputId": "c8035cba-fd93-4be6-cb34-d2f695e96a70",
        "colab": {
          "base_uri": "https://localhost:8080/"
        }
      },
      "outputs": [
        {
          "output_type": "execute_result",
          "data": {
            "text/plain": [
              "array([0., 0., 0., 0., 1., 0., 0., 0., 0., 0.])"
            ]
          },
          "metadata": {},
          "execution_count": 10
        }
      ],
      "source": [
        "Z = np.zeros(10)\n",
        "Z[4] = 1\n",
        "Z"
      ]
    },
    {
      "cell_type": "markdown",
      "metadata": {
        "_uuid": "118478fd9f22dc99584c1517078f1cdd4a4b36fc",
        "id": "vHcQgtnJbLDb"
      },
      "source": [
        "#### 4) Create a vector with values ranging from 10 to 49 (★☆☆)"
      ]
    },
    {
      "cell_type": "code",
      "execution_count": 12,
      "metadata": {
        "_uuid": "ac7cbc58129168a298298ae6d3a756a2a94c2a5d",
        "id": "o71ds1SmbLDb",
        "outputId": "32ef857c-7d49-4d04-879a-aaff0fc2c173",
        "colab": {
          "base_uri": "https://localhost:8080/"
        }
      },
      "outputs": [
        {
          "output_type": "execute_result",
          "data": {
            "text/plain": [
              "array([10, 11, 12, 13, 14, 15, 16, 17, 18, 19, 20, 21, 22, 23, 24, 25, 26,\n",
              "       27, 28, 29, 30, 31, 32, 33, 34, 35, 36, 37, 38, 39, 40, 41, 42, 43,\n",
              "       44, 45, 46, 47, 48, 49])"
            ]
          },
          "metadata": {},
          "execution_count": 12
        }
      ],
      "source": [
        "np.arange(10,50)"
      ]
    },
    {
      "cell_type": "markdown",
      "metadata": {
        "_uuid": "1c153cfc18b4c413b602d9fa073a4c049f1e703b",
        "id": "ZBGdS2lybLDb"
      },
      "source": [
        "#### 5) Reverse a vector (first element becomes last) (★☆☆)"
      ]
    },
    {
      "cell_type": "code",
      "execution_count": 13,
      "metadata": {
        "_uuid": "f1498235d2137116b1a7fabc6626dc8549235aba",
        "id": "ivIkOU5RbLDc",
        "outputId": "aabdbc3b-65be-4533-f41b-49c0c62a0ee8",
        "colab": {
          "base_uri": "https://localhost:8080/"
        }
      },
      "outputs": [
        {
          "output_type": "execute_result",
          "data": {
            "text/plain": [
              "array([49, 48, 47, 46, 45, 44, 43, 42, 41, 40, 39, 38, 37, 36, 35, 34, 33,\n",
              "       32, 31, 30, 29, 28, 27, 26, 25, 24, 23, 22, 21, 20, 19, 18, 17, 16,\n",
              "       15, 14, 13, 12, 11, 10,  9,  8,  7,  6,  5,  4,  3,  2,  1,  0])"
            ]
          },
          "metadata": {},
          "execution_count": 13
        }
      ],
      "source": [
        "Z = np.arange(50)\n",
        "Z = Z[::-1]\n",
        "Z"
      ]
    },
    {
      "cell_type": "markdown",
      "metadata": {
        "_uuid": "647011edcdd237ef4bfa0ec4ce3a108805bbd11f",
        "id": "HHPaSyv8bLDc"
      },
      "source": [
        "#### 6) Create a 3x3 matrix with values ranging from 0 to 8 (★☆☆)"
      ]
    },
    {
      "cell_type": "code",
      "execution_count": 14,
      "metadata": {
        "_uuid": "d6bf86992dbc3539332876b2caf973bafdb9a790",
        "id": "E_8Lp1nlbLDc",
        "outputId": "899f4cad-2505-4b1d-97c0-d31de58c0e8a",
        "colab": {
          "base_uri": "https://localhost:8080/"
        }
      },
      "outputs": [
        {
          "output_type": "execute_result",
          "data": {
            "text/plain": [
              "array([[0, 1, 2],\n",
              "       [3, 4, 5],\n",
              "       [6, 7, 8]])"
            ]
          },
          "metadata": {},
          "execution_count": 14
        }
      ],
      "source": [
        "np.arange(0,9).reshape(3,3)"
      ]
    },
    {
      "cell_type": "markdown",
      "metadata": {
        "_uuid": "c7d5733bee779737b5ad4250b257d0a1423ffbff",
        "id": "X68ToRr8bLDd"
      },
      "source": [
        "#### 7) Find indices of non-zero elements from \\[1,2,0,0,4,0\\] (★☆☆)"
      ]
    },
    {
      "cell_type": "code",
      "execution_count": 15,
      "metadata": {
        "_uuid": "e6e0544a4326eaf8f3ea6390a16422a9844d48fc",
        "id": "96t8V2aVbLDd",
        "outputId": "cf8b3ad3-1ec9-4f82-e531-be97f854612b",
        "colab": {
          "base_uri": "https://localhost:8080/"
        }
      },
      "outputs": [
        {
          "output_type": "execute_result",
          "data": {
            "text/plain": [
              "(array([0, 1, 4]),)"
            ]
          },
          "metadata": {},
          "execution_count": 15
        }
      ],
      "source": [
        "Z =  [1,2,0,0,4,0]\n",
        "i = np.nonzero(Z)\n",
        "i"
      ]
    },
    {
      "cell_type": "markdown",
      "metadata": {
        "_uuid": "ab5c1aaf0377ab923c6dbb7452671c181544734a",
        "id": "JkzOQbjCbLDd"
      },
      "source": [
        "#### 8) Create a 3x3 identity matrix (★☆☆)"
      ]
    },
    {
      "cell_type": "code",
      "execution_count": 16,
      "metadata": {
        "_uuid": "0e10bd7b228cff4c485d80142fa5afcea12eb0e1",
        "id": "b_M96vC5bLDd",
        "outputId": "db680660-add7-435e-e26e-9650810d3c66",
        "colab": {
          "base_uri": "https://localhost:8080/"
        }
      },
      "outputs": [
        {
          "output_type": "execute_result",
          "data": {
            "text/plain": [
              "array([[1., 0., 0.],\n",
              "       [0., 1., 0.],\n",
              "       [0., 0., 1.]])"
            ]
          },
          "metadata": {},
          "execution_count": 16
        }
      ],
      "source": [
        "Z = np.eye(3)\n",
        "Z"
      ]
    },
    {
      "cell_type": "markdown",
      "metadata": {
        "_uuid": "9c3d53fd277d07937bc04838c4ca57a0aaaec498",
        "id": "gQtIs8EvbLDd"
      },
      "source": [
        "#### 9) Create a 3x3x3 array with random values (★☆☆)"
      ]
    },
    {
      "cell_type": "code",
      "execution_count": 19,
      "metadata": {
        "_uuid": "77840458ba47b330dd84bab7a119e85299856c57",
        "tags": [],
        "id": "oT5k1VA6bLDe",
        "outputId": "2687e3c5-3e3b-4b91-c379-435dd98321d8",
        "colab": {
          "base_uri": "https://localhost:8080/"
        }
      },
      "outputs": [
        {
          "output_type": "execute_result",
          "data": {
            "text/plain": [
              "array([[[0.65627313, 0.64141833, 0.43492099],\n",
              "        [0.26980318, 0.78453646, 0.17535107],\n",
              "        [0.14350224, 0.26147341, 0.38776013]],\n",
              "\n",
              "       [[0.55759956, 0.10738503, 0.30915751],\n",
              "        [0.12769821, 0.37535849, 0.65527855],\n",
              "        [0.97799665, 0.13377806, 0.71101362]],\n",
              "\n",
              "       [[0.22699465, 0.13960008, 0.93550065],\n",
              "        [0.52627164, 0.48691783, 0.88300854],\n",
              "        [0.36858178, 0.37848067, 0.36019274]]])"
            ]
          },
          "metadata": {},
          "execution_count": 19
        }
      ],
      "source": [
        "Z = np.random.random((3,3,3))\n",
        "Z"
      ]
    },
    {
      "cell_type": "markdown",
      "metadata": {
        "_uuid": "886bef95cd1aa9af4133902b45b50127b5da54cb",
        "id": "rDOuNKTibLDe"
      },
      "source": [
        "#### 10) Create a 10x10 array with random values and find the minimum and maximum values (★☆☆)"
      ]
    },
    {
      "cell_type": "code",
      "execution_count": 20,
      "metadata": {
        "_uuid": "a8c13dc011c6afb824c3a7031330b6bd1a77e497",
        "id": "b6iwPAXIbLDe",
        "outputId": "d9605d5c-a53c-484a-9373-55f5d2be3ae6",
        "colab": {
          "base_uri": "https://localhost:8080/"
        }
      },
      "outputs": [
        {
          "output_type": "stream",
          "name": "stdout",
          "text": [
            "0.010307335440410292 0.9973019300655587\n"
          ]
        }
      ],
      "source": [
        "Z = np.random.random((10,10))\n",
        "min = Z.min()\n",
        "max = Z.max()\n",
        "print(min, max)"
      ]
    },
    {
      "cell_type": "markdown",
      "metadata": {
        "_uuid": "07db1e47dcff92113a6d4c696e92a5578b20d89f",
        "id": "s6yZOp3sbLDe"
      },
      "source": [
        "#### 11) Create a random vector of size 30 and find the mean value (★☆☆)"
      ]
    },
    {
      "cell_type": "code",
      "execution_count": 21,
      "metadata": {
        "_uuid": "a6533f70b28d583e6e1926a0e3e668b465d6ef6c",
        "id": "BWhdBVpibLDe",
        "outputId": "6e006ca9-9d7c-490c-b235-fce253779273",
        "colab": {
          "base_uri": "https://localhost:8080/"
        }
      },
      "outputs": [
        {
          "output_type": "execute_result",
          "data": {
            "text/plain": [
              "0.5498216780471121"
            ]
          },
          "metadata": {},
          "execution_count": 21
        }
      ],
      "source": [
        "Z = np.random.random(30)\n",
        "mean = Z.mean()\n",
        "mean"
      ]
    },
    {
      "cell_type": "markdown",
      "metadata": {
        "_uuid": "2234dffb1dffc779d1d24f269da232a560848ad0",
        "id": "R5aYjPIIbLDe"
      },
      "source": [
        "#### 12) Create a 2d array with 1 on the border and 0 inside (★☆☆)"
      ]
    },
    {
      "cell_type": "code",
      "execution_count": 23,
      "metadata": {
        "_uuid": "03bef7c11ab2593768ce88331a92c0c7cc10d463",
        "id": "WBQcBfC7bLDf",
        "outputId": "fa023d64-8edd-4588-e373-73bacbfee453",
        "colab": {
          "base_uri": "https://localhost:8080/"
        }
      },
      "outputs": [
        {
          "output_type": "execute_result",
          "data": {
            "text/plain": [
              "array([[1., 1., 1., 1., 1., 1., 1., 1., 1., 1.],\n",
              "       [1., 0., 0., 0., 0., 0., 0., 0., 0., 1.],\n",
              "       [1., 0., 0., 0., 0., 0., 0., 0., 0., 1.],\n",
              "       [1., 0., 0., 0., 0., 0., 0., 0., 0., 1.],\n",
              "       [1., 0., 0., 0., 0., 0., 0., 0., 0., 1.],\n",
              "       [1., 0., 0., 0., 0., 0., 0., 0., 0., 1.],\n",
              "       [1., 0., 0., 0., 0., 0., 0., 0., 0., 1.],\n",
              "       [1., 0., 0., 0., 0., 0., 0., 0., 0., 1.],\n",
              "       [1., 0., 0., 0., 0., 0., 0., 0., 0., 1.],\n",
              "       [1., 1., 1., 1., 1., 1., 1., 1., 1., 1.]])"
            ]
          },
          "metadata": {},
          "execution_count": 23
        }
      ],
      "source": [
        "Z = np.ones((10,10))\n",
        "Z[1:-1,1:-1] = 0\n",
        "Z"
      ]
    },
    {
      "cell_type": "markdown",
      "metadata": {
        "_uuid": "6e24eff853c1ead319eba0adf0efdf31a58c6944",
        "id": "SutI_nwobLDf"
      },
      "source": [
        "#### 13) How to add a border (filled with 0's) around an existing array? (★☆☆)"
      ]
    },
    {
      "cell_type": "code",
      "execution_count": 24,
      "metadata": {
        "_uuid": "573dd1238aef49fed4a9cfeb645c09119a307916",
        "id": "H4AL3VdhbLDf",
        "outputId": "406d931a-21be-4408-f227-72cb1bb2a0da",
        "colab": {
          "base_uri": "https://localhost:8080/"
        }
      },
      "outputs": [
        {
          "output_type": "execute_result",
          "data": {
            "text/plain": [
              "array([[0., 0., 0., 0., 0., 0., 0.],\n",
              "       [0., 1., 1., 1., 1., 1., 0.],\n",
              "       [0., 1., 1., 1., 1., 1., 0.],\n",
              "       [0., 1., 1., 1., 1., 1., 0.],\n",
              "       [0., 1., 1., 1., 1., 1., 0.],\n",
              "       [0., 1., 1., 1., 1., 1., 0.],\n",
              "       [0., 0., 0., 0., 0., 0., 0.]])"
            ]
          },
          "metadata": {},
          "execution_count": 24
        }
      ],
      "source": [
        "Z = np.ones((5,5))\n",
        "Z = np.pad(Z, pad_width=1, mode='constant', constant_values=0)\n",
        "Z"
      ]
    },
    {
      "cell_type": "markdown",
      "metadata": {
        "_uuid": "1f657aee797f18a40aa7a5e98362719bc73ebdee",
        "id": "32Zo32VJbLDf"
      },
      "source": [
        "#### 14) Predict (before executig) the results of the following expressions? (★☆☆)"
      ]
    },
    {
      "cell_type": "code",
      "execution_count": null,
      "metadata": {
        "_uuid": "5bd51740ffe0b687da93acf403807897292ebbc5",
        "id": "2QYEzaufbLDf",
        "outputId": "39990234-4bd8-4ec4-85e5-0f18993873fd"
      },
      "outputs": [
        {
          "name": "stdout",
          "output_type": "stream",
          "text": [
            "nan\n",
            "False\n",
            "False\n",
            "nan\n",
            "True\n",
            "False\n"
          ]
        }
      ],
      "source": [
        "print(0 * np.nan) #nan\n",
        "print(np.nan == np.nan) #False\n",
        "print(np.inf > np.nan)  #False\n",
        "print(np.nan - np.nan)  #nan\n",
        "print(np.nan in set([np.nan]))#True\n",
        "print(0.3 == 3 * 0.1)   #False"
      ]
    },
    {
      "cell_type": "markdown",
      "metadata": {
        "_uuid": "e22023622e0ec70b97ca378772dae42cff45d73c",
        "id": "8f2APdsxbLDg"
      },
      "source": [
        "#### 15) Create a 5x5 matrix with values 1,2,3,4 just below the diagonal (★☆☆)"
      ]
    },
    {
      "cell_type": "code",
      "execution_count": 25,
      "metadata": {
        "_uuid": "f1aaa690119ec31eb516c96023250ff10f2800be",
        "id": "RXAwWCIEbLDg",
        "outputId": "1e50965f-bff4-447e-9f7e-ff4bac2c935f",
        "colab": {
          "base_uri": "https://localhost:8080/"
        }
      },
      "outputs": [
        {
          "output_type": "execute_result",
          "data": {
            "text/plain": [
              "array([[0, 0, 0, 0, 0],\n",
              "       [1, 0, 0, 0, 0],\n",
              "       [0, 2, 0, 0, 0],\n",
              "       [0, 0, 3, 0, 0],\n",
              "       [0, 0, 0, 4, 0]])"
            ]
          },
          "metadata": {},
          "execution_count": 25
        }
      ],
      "source": [
        "Z = np.diag(1+np.arange(4),k=-1)\n",
        "Z"
      ]
    },
    {
      "cell_type": "markdown",
      "metadata": {
        "_uuid": "2e1e85761e1eafa4cd8986a3aa28763f2b8197e2",
        "id": "ok8k821kbLDg"
      },
      "source": [
        "#### 16) Create a 8x8 matrix and fill it with a checkerboard (0,1) pattern (★☆☆)"
      ]
    },
    {
      "cell_type": "code",
      "execution_count": 26,
      "metadata": {
        "_uuid": "467504e8796a218a3faa0a787775d8aa577f4c32",
        "id": "g7a4jcxtbLDg",
        "outputId": "ae2d9128-e44b-4f87-998a-b5f4c8c668db",
        "colab": {
          "base_uri": "https://localhost:8080/"
        }
      },
      "outputs": [
        {
          "output_type": "execute_result",
          "data": {
            "text/plain": [
              "array([[0, 1, 0, 1, 0, 1, 0, 1],\n",
              "       [1, 0, 1, 0, 1, 0, 1, 0],\n",
              "       [0, 1, 0, 1, 0, 1, 0, 1],\n",
              "       [1, 0, 1, 0, 1, 0, 1, 0],\n",
              "       [0, 1, 0, 1, 0, 1, 0, 1],\n",
              "       [1, 0, 1, 0, 1, 0, 1, 0],\n",
              "       [0, 1, 0, 1, 0, 1, 0, 1],\n",
              "       [1, 0, 1, 0, 1, 0, 1, 0]])"
            ]
          },
          "metadata": {},
          "execution_count": 26
        }
      ],
      "source": [
        "Z = np.zeros((8,8),dtype=int)\n",
        "Z[1::2,::2] = 1\n",
        "Z[::2,1::2] = 1\n",
        "Z"
      ]
    },
    {
      "cell_type": "markdown",
      "metadata": {
        "_uuid": "87e644b2696a16879dcf96b35b17a48db550cd04",
        "id": "c58WEIjQbLDh"
      },
      "source": [
        "#### 17) Consider a (6,7,8) shape array, what is the index (x,y,z) of the 100th element?"
      ]
    },
    {
      "cell_type": "code",
      "execution_count": 27,
      "metadata": {
        "_uuid": "eabdb2c5e23366c763f0cc39939ee68866c3f111",
        "id": "bzl5L6TfbLDh",
        "outputId": "45aefa68-e347-420b-caa1-4a40923dbd8f",
        "colab": {
          "base_uri": "https://localhost:8080/"
        }
      },
      "outputs": [
        {
          "output_type": "execute_result",
          "data": {
            "text/plain": [
              "(1, 5, 3)"
            ]
          },
          "metadata": {},
          "execution_count": 27
        }
      ],
      "source": [
        "res = np.unravel_index(99,(6,7,8))\n",
        "res"
      ]
    },
    {
      "cell_type": "markdown",
      "metadata": {
        "_uuid": "659926bf5bf80842361a658fd0f84bf24084fbf3",
        "id": "HpJMYChLbLDh"
      },
      "source": [
        "#### 18) Multiply a 5x3 matrix by a 3x2 matrix (real matrix product) (★☆☆)"
      ]
    },
    {
      "cell_type": "code",
      "execution_count": 29,
      "metadata": {
        "_uuid": "8be73ba1bd9778d487ac20ef5658c7b8e57c3d67",
        "id": "aJq7gAsrbLDh",
        "outputId": "e3712270-6435-4f42-aebf-2eb5e16a0cae",
        "colab": {
          "base_uri": "https://localhost:8080/"
        }
      },
      "outputs": [
        {
          "output_type": "execute_result",
          "data": {
            "text/plain": [
              "array([[3., 3.],\n",
              "       [3., 3.],\n",
              "       [3., 3.],\n",
              "       [3., 3.],\n",
              "       [3., 3.]])"
            ]
          },
          "metadata": {},
          "execution_count": 29
        }
      ],
      "source": [
        "Z = np.ones((5,3)) @ np.ones((3,2))\n",
        "Z"
      ]
    },
    {
      "cell_type": "markdown",
      "metadata": {
        "_uuid": "0a65567844ac53a18dbb387a8694da2b1c78294a",
        "id": "6-hfNhk6bLDh"
      },
      "source": [
        "#### 19) Given a 1D array, negate all elements which are between 3 and 8, in place. (★☆☆)"
      ]
    },
    {
      "cell_type": "code",
      "execution_count": 30,
      "metadata": {
        "_uuid": "d48512adb16f06371f651dd8dc1ae9ea1c3586b1",
        "id": "twMNeXhFbLDh",
        "outputId": "55f9b81d-adb8-4449-924a-086740161ef5",
        "colab": {
          "base_uri": "https://localhost:8080/"
        }
      },
      "outputs": [
        {
          "output_type": "execute_result",
          "data": {
            "text/plain": [
              "array([ 0,  1,  2,  3, -4, -5, -6, -7,  8,  9, 10])"
            ]
          },
          "metadata": {},
          "execution_count": 30
        }
      ],
      "source": [
        "# Author: Evgeni Burovski\n",
        "\n",
        "Z = np.arange(11)\n",
        "Z[(3 < Z) & (Z < 8)] *= -1\n",
        "Z"
      ]
    },
    {
      "cell_type": "markdown",
      "metadata": {
        "_uuid": "e49ca0d2249b4a5cf25b264e42c6feb3057889ed",
        "id": "QGFhZaCebLDi"
      },
      "source": [
        "#### 20. How to find common values between two arrays? (★☆☆)"
      ]
    },
    {
      "cell_type": "code",
      "execution_count": 31,
      "metadata": {
        "_uuid": "b7a1b2802e4c4a2ac5baf737e2065c55bef226b6",
        "id": "zdk3Mz2EbLDi",
        "outputId": "f69d7926-ec31-4ee8-b255-8b7d12766215",
        "colab": {
          "base_uri": "https://localhost:8080/"
        }
      },
      "outputs": [
        {
          "output_type": "execute_result",
          "data": {
            "text/plain": [
              "array([1, 2, 5])"
            ]
          },
          "metadata": {},
          "execution_count": 31
        }
      ],
      "source": [
        "Z1 = np.random.randint(0,10,10)\n",
        "Z2 = np.random.randint(0,10,10)\n",
        "\n",
        "np.intersect1d(Z1,Z2)"
      ]
    },
    {
      "cell_type": "markdown",
      "metadata": {
        "_uuid": "9e2512ad8b29d3599cababc7009febce91929869",
        "id": "WED_FKKbbLDi"
      },
      "source": [
        "#### 21) How to compute ((A+B)\\*(-A/2)) in place (without copy)? (★★☆)"
      ]
    },
    {
      "cell_type": "code",
      "execution_count": null,
      "metadata": {
        "_uuid": "4fb34450b8dfabe74d9e411ec45c717e15a0efcd",
        "id": "QzdQZ69MbLDi"
      },
      "outputs": [],
      "source": [
        "A = np.ones(3)*1\n",
        "B = np.ones(3)*2\n",
        "C = np.ones(3)*3\n"
      ]
    },
    {
      "cell_type": "markdown",
      "metadata": {
        "_uuid": "861564e1209df602ba9acf76b21764166d941f64",
        "id": "A9pbXGnCbLDi"
      },
      "source": [
        "#### 22) Extract the integer part of a random array (★★☆)"
      ]
    },
    {
      "cell_type": "code",
      "execution_count": null,
      "metadata": {
        "_uuid": "26071c39ddc28c65fe06329b480504455890609e",
        "id": "Wn--Gd0BbLDi"
      },
      "outputs": [],
      "source": [
        "Z = np.random.uniform(0,10,10)\n",
        "\n"
      ]
    },
    {
      "cell_type": "markdown",
      "metadata": {
        "_uuid": "1acff22fb998865b58d5a9b37b0a5ce5b7f13387",
        "id": "azOU4XujbLDj"
      },
      "source": [
        "#### 23) Create a 5x5 matrix with row values ranging from 0 to 4 (★★☆)"
      ]
    },
    {
      "cell_type": "code",
      "execution_count": null,
      "metadata": {
        "_uuid": "728c78dc7d9477e3300f58d589fbbc888df3cecb",
        "id": "d5HHnRR4bLDj"
      },
      "outputs": [],
      "source": [
        "Z = np.zeros((5,5))\n"
      ]
    },
    {
      "cell_type": "markdown",
      "metadata": {
        "_uuid": "dd54ec03c8ce814c994611575b49cd2e14b4071a",
        "id": "WVDiUhp4bLDj"
      },
      "source": [
        "#### 24) Consider a generator function that generates 10 integers and use it to build an array (★☆☆)"
      ]
    },
    {
      "cell_type": "code",
      "execution_count": null,
      "metadata": {
        "_uuid": "229a68e06163a294e63f0b377aa697aa8c925cb2",
        "id": "Sg7qV-kibLDj"
      },
      "outputs": [],
      "source": [
        ""
      ]
    },
    {
      "cell_type": "markdown",
      "metadata": {
        "_uuid": "c52ceff787ef50f22325107cb5f5b1bfac61858f",
        "id": "Mc7kEvtBbLDj"
      },
      "source": [
        "#### 25) Create a vector of size 10 with values ranging from 0 to 1, both excluded (★★☆)"
      ]
    },
    {
      "cell_type": "code",
      "execution_count": null,
      "metadata": {
        "_uuid": "bcdb9a3b3a6a47768f53ea8e25b70070566c87eb",
        "id": "qmZHUbKxbLDj"
      },
      "outputs": [],
      "source": [
        ""
      ]
    },
    {
      "cell_type": "markdown",
      "metadata": {
        "_uuid": "34f5d6e2e269678714f1e5aafec8a92d6411ecd3",
        "id": "8X3E6RkfbLDj"
      },
      "source": [
        "#### 26) Create a random vector of size 10 and sort it (★★☆)"
      ]
    },
    {
      "cell_type": "code",
      "execution_count": null,
      "metadata": {
        "_uuid": "650bd640404dd8cfdbeb0d91b8fc5ea844ee60a8",
        "id": "sjAw3X6_bLDj"
      },
      "outputs": [],
      "source": [
        ""
      ]
    },
    {
      "cell_type": "markdown",
      "metadata": {
        "_uuid": "0502011982ec9de8f998bdcc76ff2d00dc9bad6e",
        "id": "TX8dTG6kbLDk"
      },
      "source": [
        "#### 27) Consider two random array A and B, check if they are equal (★★☆)"
      ]
    },
    {
      "cell_type": "code",
      "execution_count": null,
      "metadata": {
        "_uuid": "bc542c3112954260eac0bcf08bc8b0ae2ce0ae33",
        "id": "OxRyql74bLDk"
      },
      "outputs": [],
      "source": [
        "A = np.random.randint(0,2,5)\n",
        "B = np.random.randint(0,2,5)\n",
        "\n"
      ]
    },
    {
      "cell_type": "markdown",
      "metadata": {
        "_uuid": "100623c44dc702d6ac2ac5d35b4e5173c906f317",
        "id": "OKfcRxrAbLDk"
      },
      "source": [
        "#### 28) Make an array immutable (read-only) (★★☆)"
      ]
    },
    {
      "cell_type": "code",
      "execution_count": null,
      "metadata": {
        "_uuid": "14189438d83341e3e1f92c6a2ced78eefe330569",
        "id": "UPMiLEjqbLDk"
      },
      "outputs": [],
      "source": [
        "Z = np.zeros(10)\n"
      ]
    },
    {
      "cell_type": "markdown",
      "metadata": {
        "_uuid": "353f854c6c99f2889b0d31cc69bc1fd7fccd0fe1",
        "id": "sVzmZbT5bLDk"
      },
      "source": [
        "#### 29) Create random vector of size 10 and replace the maximum value by 0 (★★☆)"
      ]
    },
    {
      "cell_type": "code",
      "execution_count": null,
      "metadata": {
        "_uuid": "fd9c6de99887f58497e8880f38b8aab24beaef6a",
        "id": "f5etQl5GbLDk"
      },
      "outputs": [],
      "source": [
        "Z = np.random.random(10)\n"
      ]
    },
    {
      "cell_type": "markdown",
      "metadata": {
        "_uuid": "35b4e9307a72301c43b077924e4674cdee69fdf0",
        "id": "DK1BFLBsbLDl"
      },
      "source": [
        "#### 30) How to convert a float (32 bits) array into an integer (32 bits) in place?"
      ]
    },
    {
      "cell_type": "code",
      "execution_count": null,
      "metadata": {
        "_uuid": "c67695d2efff4f63dbe4037694504a84deb8d4b9",
        "id": "5YGK_3hCbLDl"
      },
      "outputs": [],
      "source": [
        "Z = np.arange(10, dtype=np.float32)\n"
      ]
    },
    {
      "cell_type": "markdown",
      "metadata": {
        "_uuid": "389113b4e22ac2f5454686a38fa9f4e2500e4c52",
        "id": "LCJ-oV95bLDl"
      },
      "source": [
        "#### 31) randomly place 3 elements in a 2D array? (★★☆)"
      ]
    },
    {
      "cell_type": "code",
      "execution_count": null,
      "metadata": {
        "_uuid": "442c3c5664c0d9dbbe7149a0924e47c4a9699097",
        "id": "z4IVGtuEbLDl"
      },
      "outputs": [],
      "source": [
        "\n",
        "n = 10\n",
        "p = 3\n",
        "Z = np.zeros((n,n))\n"
      ]
    },
    {
      "cell_type": "markdown",
      "metadata": {
        "_uuid": "ad23d8b28a5016197192b4a6ecdfa61d3c54f49f",
        "id": "A9PpMSL6bLDl"
      },
      "source": [
        "#### 32) Subtract the mean of each row of a matrix (★★☆)"
      ]
    },
    {
      "cell_type": "code",
      "execution_count": null,
      "metadata": {
        "_uuid": "62937a93af1f4bd2ee201a0a28d92ad2e39aeadf",
        "id": "e2xQ-RkXbLDl"
      },
      "outputs": [],
      "source": [
        "X = np.random.rand(5, 10)\n"
      ]
    },
    {
      "cell_type": "markdown",
      "metadata": {
        "_uuid": "6dfaee28f6ffc182b31d95b2dd7db135b3cda134",
        "id": "cBbS3UZ-bLDl"
      },
      "source": [
        "#### 33) sort an array by the 1st column? (★★☆)"
      ]
    },
    {
      "cell_type": "code",
      "execution_count": null,
      "metadata": {
        "_uuid": "6d6526eff2206d6766e34a8a9d4aa45222304ecc",
        "id": "fpj4IrRRbLDl",
        "outputId": "d82478c6-1b94-4ba0-d4dd-9c62b6c504d9"
      },
      "outputs": [
        {
          "data": {
            "text/plain": [
              "array([[2, 8, 3],\n",
              "       [3, 0, 4],\n",
              "       [3, 3, 7]])"
            ]
          },
          "execution_count": 21,
          "metadata": {},
          "output_type": "execute_result"
        }
      ],
      "source": [
        "Z = np.random.randint(0,10,(3,3))\n",
        "Z"
      ]
    },
    {
      "cell_type": "markdown",
      "metadata": {
        "_uuid": "c446326eba80f10ee44e69c38975a02b76272c66",
        "id": "Egvkm22WbLDm"
      },
      "source": [
        "#### 34) Find the nearest value from a given value z  in an array Z(★★☆)"
      ]
    },
    {
      "cell_type": "code",
      "execution_count": null,
      "metadata": {
        "_uuid": "475de3550f77c7407940a0b31eeb5016286445c4",
        "id": "KrjwhqlGbLDm"
      },
      "outputs": [],
      "source": [
        "Z = np.random.uniform(0,1,10)\n",
        "z = 0.5\n"
      ]
    },
    {
      "cell_type": "markdown",
      "metadata": {
        "_uuid": "ed78b6480e33d62936d0454ef9757390456a37e8",
        "id": "2GW3r4g4bLDn"
      },
      "source": [
        "#### 35) Considering two arrays with shape (1,3) and (3,1): to compute their sum using an iterator (★★☆)"
      ]
    },
    {
      "cell_type": "code",
      "execution_count": null,
      "metadata": {
        "_uuid": "59b473c6731410e9a83cbf30b56fc6463c4ee8a4",
        "id": "wvAtFThPbLDo"
      },
      "outputs": [],
      "source": [
        "A = np.arange(3).reshape(3,1)\n",
        "B = np.arange(3).reshape(1,3)\n"
      ]
    },
    {
      "cell_type": "markdown",
      "metadata": {
        "_uuid": "24b86507600d4f283f09b3117a0b9266446e5b98",
        "id": "_yjDego4bLDo"
      },
      "source": [
        "#### 36) find the most frequent value in an array"
      ]
    },
    {
      "cell_type": "code",
      "execution_count": null,
      "metadata": {
        "_uuid": "bc112b94dc08691f315afb878bdd2c52cbb4c3bc",
        "id": "FAize4olbLDo"
      },
      "outputs": [],
      "source": [
        "Z = np.random.randint(0,10,50)\n"
      ]
    },
    {
      "cell_type": "markdown",
      "metadata": {
        "_uuid": "c5a8dd39a51cf4dbe37653e3d6131d06ac7a449c",
        "id": "7_4Qw7P-bLDo"
      },
      "source": [
        "#### 37) Given a two dimensional array, extract unique rows (★★★)"
      ]
    },
    {
      "cell_type": "code",
      "execution_count": null,
      "metadata": {
        "_uuid": "2015fb48f278ce0021a3aa8f98db67438d2d92a6",
        "id": "5IKJ8tbwbLDo"
      },
      "outputs": [],
      "source": [
        "\n",
        "Z = np.random.randint(0,2,(6,3))\n"
      ]
    },
    {
      "cell_type": "code",
      "execution_count": null,
      "metadata": {
        "id": "-0qnNyW4bLDo"
      },
      "outputs": [],
      "source": [
        ""
      ]
    }
  ],
  "metadata": {
    "kernelspec": {
      "display_name": "Python 3",
      "language": "python",
      "name": "python3"
    },
    "language_info": {
      "codemirror_mode": {
        "name": "ipython",
        "version": 3
      },
      "file_extension": ".py",
      "mimetype": "text/x-python",
      "name": "python",
      "nbconvert_exporter": "python",
      "pygments_lexer": "ipython3",
      "version": "3.7.6"
    },
    "colab": {
      "name": "assignment_01_numpy.ipynb",
      "provenance": []
    }
  },
  "nbformat": 4,
  "nbformat_minor": 0
}