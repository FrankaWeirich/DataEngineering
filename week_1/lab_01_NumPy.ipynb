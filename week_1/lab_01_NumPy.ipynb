{
  "cells": [
    {
      "cell_type": "markdown",
      "metadata": {
        "id": "Vp9F9kX3PeQT"
      },
      "source": [
        "# Recalling Numpy Array Slicing and Indexing"
      ]
    },
    {
      "cell_type": "code",
      "execution_count": 65,
      "metadata": {
        "id": "lhgKVhvRPeQW"
      },
      "outputs": [],
      "source": [
        "import numpy as np"
      ]
    },
    {
      "cell_type": "code",
      "execution_count": 66,
      "metadata": {
        "id": "nxx_2JIDPeQX"
      },
      "outputs": [],
      "source": [
        "#create array\n",
        "x = np.asarray(range(1,26), np.int8).reshape(5,5)"
      ]
    },
    {
      "cell_type": "code",
      "execution_count": 67,
      "metadata": {
        "colab": {
          "base_uri": "https://localhost:8080/"
        },
        "id": "yM1I3MBCPeQX",
        "outputId": "13eb5f8c-c757-4f8d-d492-4ea7315b9d5a"
      },
      "outputs": [
        {
          "output_type": "execute_result",
          "data": {
            "text/plain": [
              "array([[ 1,  2,  3,  4,  5],\n",
              "       [ 6,  7,  8,  9, 10],\n",
              "       [11, 12, 13, 14, 15],\n",
              "       [16, 17, 18, 19, 20],\n",
              "       [21, 22, 23, 24, 25]], dtype=int8)"
            ]
          },
          "metadata": {},
          "execution_count": 67
        }
      ],
      "source": [
        "x"
      ]
    },
    {
      "cell_type": "markdown",
      "metadata": {
        "id": "Njkj3zHJPeQY"
      },
      "source": [
        "## Slice first 3 elements\n",
        "\n",
        "<img src=\"https://github.com/keuperj/DataEngineering22/blob/main/week_1/IMG/np01.png?raw=1\">"
      ]
    },
    {
      "cell_type": "code",
      "execution_count": 68,
      "metadata": {
        "colab": {
          "base_uri": "https://localhost:8080/"
        },
        "id": "fqo4euIVPeQZ",
        "outputId": "5de4b34c-00b5-4079-87a2-0819dbf8f6f1"
      },
      "outputs": [
        {
          "output_type": "execute_result",
          "data": {
            "text/plain": [
              "array([1, 2, 3], dtype=int8)"
            ]
          },
          "metadata": {},
          "execution_count": 68
        }
      ],
      "source": [
        "x[0][0:3]\n"
      ]
    },
    {
      "cell_type": "markdown",
      "metadata": {
        "id": "tU_qSjn2PeQZ"
      },
      "source": [
        "##  Slice first 8 elements\n",
        "\n",
        "<img src=\"https://github.com/keuperj/DataEngineering22/blob/main/week_1/IMG/np02.png?raw=1\">"
      ]
    },
    {
      "cell_type": "code",
      "execution_count": 69,
      "metadata": {
        "colab": {
          "base_uri": "https://localhost:8080/"
        },
        "id": "ck6hUZPSPeQZ",
        "outputId": "d55b18f3-d81b-4a4e-d810-a555adf7eb62"
      },
      "outputs": [
        {
          "output_type": "execute_result",
          "data": {
            "text/plain": [
              "array([1, 2, 3, 4, 5, 6, 7, 8], dtype=int8)"
            ]
          },
          "metadata": {},
          "execution_count": 69
        }
      ],
      "source": [
        "x.reshape(-1)[0:8]"
      ]
    },
    {
      "cell_type": "markdown",
      "metadata": {
        "id": "4HaAtmNpPeQa"
      },
      "source": [
        "## Skip every other element\n",
        "\n",
        "<img src=\"https://github.com/keuperj/DataEngineering22/blob/main/week_1/IMG/np03.png?raw=1\">"
      ]
    },
    {
      "cell_type": "code",
      "execution_count": 70,
      "metadata": {
        "colab": {
          "base_uri": "https://localhost:8080/"
        },
        "id": "H0aLuusGPeQa",
        "outputId": "3d13e961-47f9-4e37-e11d-131cd95f6e28"
      },
      "outputs": [
        {
          "output_type": "execute_result",
          "data": {
            "text/plain": [
              "array([1, 3, 5], dtype=int8)"
            ]
          },
          "metadata": {},
          "execution_count": 70
        }
      ],
      "source": [
        "x[0][0::2]"
      ]
    },
    {
      "cell_type": "markdown",
      "metadata": {
        "id": "cFtlryzZPeQb"
      },
      "source": [
        "## Slice first column\n",
        "\n",
        "<img src=\"https://github.com/keuperj/DataEngineering22/blob/main/week_1/IMG/np04.png?raw=1\">"
      ]
    },
    {
      "cell_type": "code",
      "execution_count": 71,
      "metadata": {
        "colab": {
          "base_uri": "https://localhost:8080/"
        },
        "id": "VZoC3L4EPeQb",
        "outputId": "da9789e8-68a0-4c4c-f88e-c9c816f76f90"
      },
      "outputs": [
        {
          "output_type": "execute_result",
          "data": {
            "text/plain": [
              "array([ 1,  6, 11, 16], dtype=int8)"
            ]
          },
          "metadata": {},
          "execution_count": 71
        }
      ],
      "source": [
        "x[0:4, 0]"
      ]
    },
    {
      "cell_type": "markdown",
      "metadata": {
        "id": "zf4IOyJLPeQb"
      },
      "source": [
        "## Slice a diagonal\n",
        "\n",
        "<img src=\"https://github.com/keuperj/DataEngineering22/blob/main/week_1/IMG/np05.png?raw=1\">"
      ]
    },
    {
      "cell_type": "code",
      "execution_count": 72,
      "metadata": {
        "colab": {
          "base_uri": "https://localhost:8080/"
        },
        "id": "83IKtQVfPeQb",
        "outputId": "f942f0c1-c6c0-463f-97e7-6c78d324ce88"
      },
      "outputs": [
        {
          "output_type": "execute_result",
          "data": {
            "text/plain": [
              "array([ 1,  7, 13, 19, 25], dtype=int8)"
            ]
          },
          "metadata": {},
          "execution_count": 72
        }
      ],
      "source": [
        "x.diagonal()"
      ]
    },
    {
      "cell_type": "markdown",
      "metadata": {
        "id": "KZlJuMGjPeQc"
      },
      "source": [
        "## Repeat the first element\n",
        "\n",
        "<img src=\"https://github.com/keuperj/DataEngineering22/blob/main/week_1/IMG/np06.png?raw=1\">"
      ]
    },
    {
      "cell_type": "code",
      "execution_count": 73,
      "metadata": {
        "colab": {
          "base_uri": "https://localhost:8080/"
        },
        "id": "iFvHDeC0PeQc",
        "outputId": "88228bb6-a329-480b-93d0-53056b1fc2f7"
      },
      "outputs": [
        {
          "output_type": "execute_result",
          "data": {
            "text/plain": [
              "array([1, 1, 1, 1, 1], dtype=int8)"
            ]
          },
          "metadata": {},
          "execution_count": 73
        }
      ],
      "source": [
        "x[0,0].repeat(5)"
      ]
    },
    {
      "cell_type": "markdown",
      "metadata": {
        "id": "xIjKfNAMPeQc"
      },
      "source": [
        "## Simple 2D slicing\n",
        "\n",
        "<img src=\"https://github.com/keuperj/DataEngineering22/blob/main/week_1/IMG/np07.png?raw=1\">"
      ]
    },
    {
      "cell_type": "code",
      "execution_count": 74,
      "metadata": {
        "colab": {
          "base_uri": "https://localhost:8080/"
        },
        "id": "xNhtRsCmPeQc",
        "outputId": "8581f3b9-13b3-4cf0-8dd7-91ded7992529"
      },
      "outputs": [
        {
          "output_type": "execute_result",
          "data": {
            "text/plain": [
              "array([[ 1,  2,  3,  4],\n",
              "       [ 6,  7,  8,  9],\n",
              "       [11, 12, 13, 14]], dtype=int8)"
            ]
          },
          "metadata": {},
          "execution_count": 74
        }
      ],
      "source": [
        "x[0:3, 0:4]"
      ]
    },
    {
      "cell_type": "markdown",
      "metadata": {
        "id": "puNrFTIQPeQc"
      },
      "source": [
        "## Slice a zigzag \n",
        "\n",
        "<img src=\"https://github.com/keuperj/DataEngineering22/blob/main/week_1/IMG/np08.png?raw=1\">"
      ]
    },
    {
      "cell_type": "code",
      "execution_count": 75,
      "metadata": {
        "colab": {
          "base_uri": "https://localhost:8080/"
        },
        "id": "hosdgsOmPeQd",
        "outputId": "9e3680b3-092c-4cd4-f200-e5f4c8ed5d0a"
      },
      "outputs": [
        {
          "output_type": "execute_result",
          "data": {
            "text/plain": [
              "array([[ 1,  2],\n",
              "       [ 7,  8],\n",
              "       [13, 14],\n",
              "       [19, 20]], dtype=int8)"
            ]
          },
          "metadata": {},
          "execution_count": 75
        }
      ],
      "source": [
        "x.reshape(-1)[0:20].reshape(10,2)[0::3]\n"
      ]
    },
    {
      "cell_type": "markdown",
      "metadata": {
        "id": "E_6HmGJTPeQd"
      },
      "source": [
        "## Sparse slicing\n",
        "\n",
        "<img src=\"https://github.com/keuperj/DataEngineering22/blob/main/week_1/IMG/np09.png?raw=1\">"
      ]
    },
    {
      "cell_type": "code",
      "execution_count": 76,
      "metadata": {
        "colab": {
          "base_uri": "https://localhost:8080/"
        },
        "id": "_Iu-SVe1PeQd",
        "outputId": "412acf40-b62a-460b-da74-a3f4ed883281"
      },
      "outputs": [
        {
          "output_type": "execute_result",
          "data": {
            "text/plain": [
              "array([[ 1,  3,  5],\n",
              "       [11, 13, 15],\n",
              "       [21, 23, 25]], dtype=int8)"
            ]
          },
          "metadata": {},
          "execution_count": 76
        }
      ],
      "source": [
        "x[0::2,0::2]"
      ]
    },
    {
      "cell_type": "markdown",
      "metadata": {
        "id": "rRsdpxIdPeQd"
      },
      "source": [
        "## Transpose a 2D array\n",
        "\n",
        "<img src=\"https://github.com/keuperj/DataEngineering22/blob/main/week_1/IMG/np10.png?raw=1\">"
      ]
    },
    {
      "cell_type": "code",
      "execution_count": 77,
      "metadata": {
        "colab": {
          "base_uri": "https://localhost:8080/"
        },
        "id": "SfYLGjMwPeQd",
        "outputId": "59c5dfc7-f152-4a0f-86c0-9228a3a4d24e"
      },
      "outputs": [
        {
          "output_type": "execute_result",
          "data": {
            "text/plain": [
              "array([[ 1,  6, 11],\n",
              "       [ 2,  7, 12],\n",
              "       [ 3,  8, 13]], dtype=int8)"
            ]
          },
          "metadata": {},
          "execution_count": 77
        }
      ],
      "source": [
        "x[0:3,0:3].transpose()"
      ]
    },
    {
      "cell_type": "markdown",
      "metadata": {
        "id": "ar-_RczrPeQe"
      },
      "source": [
        "## Repeat the first column 4 times\n",
        "\n",
        "\n",
        "<img src=\"https://github.com/keuperj/DataEngineering22/blob/main/week_1/IMG/np11.png?raw=1\">"
      ]
    },
    {
      "cell_type": "code",
      "execution_count": 78,
      "metadata": {
        "colab": {
          "base_uri": "https://localhost:8080/"
        },
        "id": "jwdi8o1BPeQe",
        "outputId": "4870c4b8-e2b5-42a0-fc26-9f183da6aa37"
      },
      "outputs": [
        {
          "output_type": "execute_result",
          "data": {
            "text/plain": [
              "array([[ 1,  1,  1,  1],\n",
              "       [ 6,  6,  6,  6],\n",
              "       [11, 11, 11, 11],\n",
              "       [16, 16, 16, 16],\n",
              "       [21, 21, 21, 21]], dtype=int8)"
            ]
          },
          "metadata": {},
          "execution_count": 78
        }
      ],
      "source": [
        "x[0:,0].repeat(4).reshape(5,4)"
      ]
    },
    {
      "cell_type": "markdown",
      "metadata": {
        "id": "lKWI1o4hPeQe"
      },
      "source": [
        "## Reshape 1D array to 2D array\n",
        "\n",
        "<img src=\"https://github.com/keuperj/DataEngineering22/blob/main/week_1/IMG/np12.png?raw=1\">"
      ]
    },
    {
      "cell_type": "code",
      "execution_count": 79,
      "metadata": {
        "colab": {
          "base_uri": "https://localhost:8080/"
        },
        "id": "wuTTZ9jePeQe",
        "outputId": "1768e20b-3682-4e6b-f9f5-dffd3b407c3d"
      },
      "outputs": [
        {
          "output_type": "stream",
          "name": "stdout",
          "text": [
            "[ 1  2  3  4  5  6  7  8  9 10 11 12]\n"
          ]
        },
        {
          "output_type": "execute_result",
          "data": {
            "text/plain": [
              "array([[ 1,  2,  3],\n",
              "       [ 4,  5,  6],\n",
              "       [ 7,  8,  9],\n",
              "       [10, 11, 12]])"
            ]
          },
          "metadata": {},
          "execution_count": 79
        }
      ],
      "source": [
        "x = np.asarray(range(1,13), np.int64)\n",
        "print(x)\n",
        "x.reshape(4,3)"
      ]
    },
    {
      "cell_type": "markdown",
      "metadata": {
        "id": "Pt1b8N_HPeQe"
      },
      "source": [
        "## Collapse an axis from a 3D array\n",
        "\n",
        "<img src=\"https://github.com/keuperj/DataEngineering22/blob/main/week_1/IMG/np13.png?raw=1\">"
      ]
    },
    {
      "cell_type": "code",
      "execution_count": 80,
      "metadata": {
        "colab": {
          "base_uri": "https://localhost:8080/"
        },
        "id": "i3TebbTBPeQe",
        "outputId": "ccd11ded-1224-42c4-ff74-871855d2cc4a"
      },
      "outputs": [
        {
          "output_type": "stream",
          "name": "stdout",
          "text": [
            "[[[ 1  2]\n",
            "  [ 3  4]]\n",
            "\n",
            " [[ 5  6]\n",
            "  [ 7  8]]\n",
            "\n",
            " [[ 9 10]\n",
            "  [11 12]]]\n"
          ]
        }
      ],
      "source": [
        "x = np.asarray(range(1,13), np.int8).reshape(3,2,2)\n",
        "print(x)"
      ]
    },
    {
      "cell_type": "code",
      "execution_count": 80,
      "metadata": {
        "id": "_3iLR0ILPeQf"
      },
      "outputs": [],
      "source": [
        ""
      ]
    }
  ],
  "metadata": {
    "kernelspec": {
      "display_name": "Python 3",
      "language": "python",
      "name": "python3"
    },
    "language_info": {
      "codemirror_mode": {
        "name": "ipython",
        "version": 3
      },
      "file_extension": ".py",
      "mimetype": "text/x-python",
      "name": "python",
      "nbconvert_exporter": "python",
      "pygments_lexer": "ipython3",
      "version": "3.7.6"
    },
    "colab": {
      "name": "lab_01_NumPy.ipynb",
      "provenance": []
    }
  },
  "nbformat": 4,
  "nbformat_minor": 0
}